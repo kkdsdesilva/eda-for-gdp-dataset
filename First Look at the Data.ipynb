{
 "cells": [
  {
   "cell_type": "code",
   "execution_count": 2,
   "metadata": {},
   "outputs": [],
   "source": [
    "import pandas as pd\n",
    "import numpy as np"
   ]
  },
  {
   "cell_type": "code",
   "execution_count": 3,
   "metadata": {},
   "outputs": [],
   "source": [
    "# import the data\n",
    "\n",
    "countries = pd.read_csv('data/country_codes.csv')\n",
    "gdp = pd.read_csv('data/gdp_data.csv')\n",
    "pop = pd.read_csv('data/world_population.csv')"
   ]
  },
  {
   "cell_type": "code",
   "execution_count": 4,
   "metadata": {},
   "outputs": [
    {
     "name": "stdout",
     "output_type": "stream",
     "text": [
      "  country_code                     region         income_group\n",
      "0          ABW  Latin America & Caribbean          High income\n",
      "1          AFG                 South Asia           Low income\n",
      "2          AGO         Sub-Saharan Africa  Lower middle income\n",
      "3          ALB      Europe & Central Asia  Upper middle income\n",
      "4          AND      Europe & Central Asia          High income\n",
      "  country_name country_code  year        value\n",
      "0  Afghanistan          AFG  1960  537777811.1\n",
      "1  Afghanistan          AFG  1961  548888895.6\n",
      "2  Afghanistan          AFG  1962  546666677.8\n",
      "3  Afghanistan          AFG  1963  751111191.1\n",
      "4  Afghanistan          AFG  1964  800000044.4\n"
     ]
    }
   ],
   "source": [
    "# print the first 5 rows of first two dataframes\n",
    "print(countries.head())\n",
    "print(gdp.head())"
   ]
  },
  {
   "cell_type": "code",
   "execution_count": 5,
   "metadata": {},
   "outputs": [
    {
     "name": "stdout",
     "output_type": "stream",
     "text": [
      "country_code    0\n",
      "region          0\n",
      "income_group    0\n",
      "dtype: int64\n",
      "country_name    0\n",
      "country_code    0\n",
      "year            0\n",
      "value           0\n",
      "dtype: int64\n"
     ]
    }
   ],
   "source": [
    "# Look for missing values\n",
    "print(countries.isnull().sum())\n",
    "print(gdp.isnull().sum())"
   ]
  },
  {
   "cell_type": "markdown",
   "metadata": {},
   "source": [
    "As we can see, there are no missing values in the first two datasets."
   ]
  },
  {
   "cell_type": "code",
   "execution_count": 6,
   "metadata": {},
   "outputs": [
    {
     "name": "stdout",
     "output_type": "stream",
     "text": [
      "   Rank CCA3 Country/Territory           Capital Continent  2022 Population  \\\n",
      "0    36  AFG       Afghanistan             Kabul      Asia         41128771   \n",
      "1   138  ALB           Albania            Tirana    Europe          2842321   \n",
      "2    34  DZA           Algeria           Algiers    Africa         44903225   \n",
      "3   213  ASM    American Samoa         Pago Pago   Oceania            44273   \n",
      "4   203  AND           Andorra  Andorra la Vella    Europe            79824   \n",
      "\n",
      "   2020 Population  2015 Population  2010 Population  2000 Population  \\\n",
      "0         38972230         33753499         28189672         19542982   \n",
      "1          2866849          2882481          2913399          3182021   \n",
      "2         43451666         39543154         35856344         30774621   \n",
      "3            46189            51368            54849            58230   \n",
      "4            77700            71746            71519            66097   \n",
      "\n",
      "   1990 Population  1980 Population  1970 Population  Area (km²)  \\\n",
      "0         10694796         12486631         10752971      652230   \n",
      "1          3295066          2941651          2324731       28748   \n",
      "2         25518074         18739378         13795915     2381741   \n",
      "3            47818            32886            27075         199   \n",
      "4            53569            35611            19860         468   \n",
      "\n",
      "   Density (per km²)  Growth Rate  World Population Percentage  \n",
      "0            63.0587       1.0257                         0.52  \n",
      "1            98.8702       0.9957                         0.04  \n",
      "2            18.8531       1.0164                         0.56  \n",
      "3           222.4774       0.9831                         0.00  \n",
      "4           170.5641       1.0100                         0.00  \n"
     ]
    }
   ],
   "source": [
    "# print the first 5 rows of the third dataframe\n",
    "print(pop.head())"
   ]
  },
  {
   "cell_type": "code",
   "execution_count": 7,
   "metadata": {},
   "outputs": [
    {
     "name": "stdout",
     "output_type": "stream",
     "text": [
      "Rank                           0\n",
      "CCA3                           0\n",
      "Country/Territory              0\n",
      "Capital                        0\n",
      "Continent                      0\n",
      "2022 Population                0\n",
      "2020 Population                0\n",
      "2015 Population                0\n",
      "2010 Population                0\n",
      "2000 Population                0\n",
      "1990 Population                0\n",
      "1980 Population                0\n",
      "1970 Population                0\n",
      "Area (km²)                     0\n",
      "Density (per km²)              0\n",
      "Growth Rate                    0\n",
      "World Population Percentage    0\n",
      "dtype: int64\n"
     ]
    }
   ],
   "source": [
    "# Look for missing values\n",
    "print(pop.isnull().sum())"
   ]
  },
  {
   "cell_type": "markdown",
   "metadata": {},
   "source": [
    "So the third dataset also doesn't have any missing values."
   ]
  },
  {
   "cell_type": "code",
   "execution_count": 24,
   "metadata": {},
   "outputs": [
    {
     "name": "stdout",
     "output_type": "stream",
     "text": [
      "['AFG' 'AFE' 'AFW' 'ALB' 'DZA' 'ASM' 'AND' 'AGO' 'ATG' 'ARB' 'ARG' 'ARM'\n",
      " 'ABW' 'AUS' 'AUT' 'AZE' 'BHS' 'BHR' 'BGD' 'BRB' 'BLR' 'BEL' 'BLZ' 'BEN'\n",
      " 'BMU' 'BTN' 'BOL' 'BIH' 'BWA' 'BRA' 'BRN' 'BGR' 'BFA' 'BDI' 'CPV' 'KHM'\n",
      " 'CMR' 'CAN' 'CSS' 'CYM' 'CAF' 'CEB' 'TCD' 'CHI' 'CHL' 'CHN' 'COL' 'COM'\n",
      " 'COD' 'COG' 'CRI' 'CIV' 'HRV' 'CUB' 'CUW' 'CYP' 'CZE' 'DNK' 'DJI' 'DMA'\n",
      " 'DOM' 'EAR' 'EAS' 'ECU' 'EGY' 'SLV' 'GNQ' 'ERI' 'EST' 'SWZ' 'ETH' 'EMU'\n",
      " 'ECS' 'ECA' 'TEC' 'EUU' 'FRO' 'FJI' 'FIN' 'FCS' 'FRA' 'PYF' 'GAB' 'GMB'\n",
      " 'GEO' 'DEU' 'GHA' 'GRC' 'GRL' 'GRD' 'GUM' 'GTM' 'GIN' 'GNB' 'GUY' 'HTI'\n",
      " 'HPC' 'HND' 'HKG' 'HUN' 'IBD' 'ISL' 'IBT' 'IDB' 'IDX' 'IDA' 'IND' 'IDN'\n",
      " 'IRN' 'IRQ' 'IRL' 'IMN' 'ISR' 'ITA' 'JAM' 'JPN' 'JOR' 'KAZ' 'KEN' 'KIR'\n",
      " 'KOR' 'XKX' 'KWT' 'KGZ' 'LAO' 'LTE' 'LCN' 'LAC' 'TLA' 'LVA' 'LDC' 'LBN'\n",
      " 'LSO' 'LBR' 'LBY' 'LIE' 'LTU' 'LMY' 'LUX' 'MAC' 'MDG' 'MWI' 'MYS' 'MDV'\n",
      " 'MLI' 'MLT' 'MHL' 'MRT' 'MUS' 'MEX' 'FSM' 'MEA' 'MNA' 'TMN' 'MIC' 'MDA'\n",
      " 'MCO' 'MNG' 'MNE' 'MAR' 'MOZ' 'MMR' 'NAM' 'NRU' 'NPL' 'NLD' 'NCL' 'NZL'\n",
      " 'NIC' 'NER' 'NGA' 'NAC' 'MKD' 'MNP' 'NOR' 'OED' 'OMN' 'OSS' 'PSS' 'PAK'\n",
      " 'PLW' 'PAN' 'PNG' 'PRY' 'PER' 'PHL' 'POL' 'PRT' 'PST' 'PRE' 'PRI' 'QAT'\n",
      " 'ROU' 'RUS' 'RWA' 'WSM' 'SMR' 'STP' 'SAU' 'SEN' 'SRB' 'SYC' 'SLE' 'SGP'\n",
      " 'SXM' 'SVK' 'SVN' 'SST' 'SLB' 'SOM' 'ZAF' 'SAS' 'TSA' 'SSD' 'ESP' 'LKA'\n",
      " 'KNA' 'LCA' 'MAF' 'VCT' 'SSF' 'SSA' 'TSS' 'SDN' 'SUR' 'SWE' 'CHE' 'SYR'\n",
      " 'TJK' 'TZA' 'THA' 'TLS' 'TGO' 'TON' 'TTO' 'TUN' 'TUR' 'TKM' 'TCA' 'TUV'\n",
      " 'UGA' 'UKR' 'ARE' 'GBR' 'USA' 'URY' 'UZB' 'VUT' 'VEN' 'VNM' 'VIR' 'PSE'\n",
      " 'WLD' 'YEM' 'ZMB' 'ZWE']\n"
     ]
    }
   ],
   "source": [
    "# unique country codes in gdp\n",
    "print(gdp['country_code'].unique())\n",
    "\n",
    "# we remove rows with country_code is 'UMC', 'EAP', 'HIC', 'LIC', 'LMC' or 'TEA'\n",
    "gdp = gdp[~gdp['country_code'].isin(['UMC', 'EAP', 'HIC', 'LIC', 'LMC', 'TEA', 'EAS'])]"
   ]
  },
  {
   "cell_type": "code",
   "execution_count": 25,
   "metadata": {},
   "outputs": [],
   "source": [
    "# save the cleaned dataframes to csv files\n",
    "\n",
    "gdp.to_csv('data/gdp_cleaned.csv', index=False)"
   ]
  }
 ],
 "metadata": {
  "kernelspec": {
   "display_name": "conda1",
   "language": "python",
   "name": "python3"
  },
  "language_info": {
   "codemirror_mode": {
    "name": "ipython",
    "version": 3
   },
   "file_extension": ".py",
   "mimetype": "text/x-python",
   "name": "python",
   "nbconvert_exporter": "python",
   "pygments_lexer": "ipython3",
   "version": "3.11.3"
  },
  "orig_nbformat": 4
 },
 "nbformat": 4,
 "nbformat_minor": 2
}
